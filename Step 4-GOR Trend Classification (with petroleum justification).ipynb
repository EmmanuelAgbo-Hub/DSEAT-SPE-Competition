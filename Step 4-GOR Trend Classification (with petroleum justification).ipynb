{import pandas as pd
import numpy as np

# STEP 1: Load the cleaned CSV data file (confirm it's in the same folder)
wells_df = pd.read_csv("spe_africa_dseats_datathon_2025_wells_dataset.csv")
reservoir_df = pd.read_csv("reservoir_info.csv")

# Clean numeric reservoir data for consistency and computations
reservoir_numeric_cols = [
    'Initial Reservoir Pressure (PSI)',
    'Bubble Point Pressure (PSI)',
    'Current Average Reservoir Pressure (PSI)',
    'Solution Gas-Oil-Ratio (SCF/BBL)',
    'Formation Volume Factor (RB/STB)'
]

for col in reservoir_numeric_cols:
    reservoir_df[col] = (
        reservoir_df[col]
        .astype(str)
        .str.replace(",", "")
        .str.replace('"', "")
        .replace("NA", np.nan)
        .astype(float)
    )

# Clean and convert well-level numeric data
wells_numeric_cols = [
    'BOTTOMHOLE_FLOWING_PRESSURE (PSI)',
    'DOWNHOLE_TEMPERATURE (deg F)',
    'ANNULUS_PRESS (PSI)',
    'CHOKE_SIZE (%)',
    'WELL_HEAD_PRESSURE (PSI)',
    'WELL_HEAD_TEMPERATURE (deg F)',
    'CUMULATIVE_OIL_PROD (STB)',
    'CUMULATIVE_FORMATION_GAS_PROD (MSCF)',
    'CUMULATIVE_TOTAL_GAS_PROD (MSCF)',
    'CUMULATIVE_WATER_PROD (BBL)',
    'ON_STREAM_HRS'
]

for col in wells_numeric_cols:
    wells_df[col] = (
        wells_df[col]
        .astype(str)
        .str.replace(",", "")
        .str.replace('"', "")
        .replace("NA", np.nan)
        .astype(float)
    )

# Ensure correct parsing of production dates (format = dd-mmm-yy)
wells_df["PROD_DATE"] = pd.to_datetime(wells_df["PROD_DATE"], format="%d-%b-%y", errors="coerce")

# Isolate the first 20 wells for focused analysis
well_names_20 = wells_df["WELL_NAME"].dropna().unique()[:20]
wells_df_top20 = wells_df[wells_df["WELL_NAME"].isin(well_names_20)].copy()

# View status
print("Step 1 completed successfully. Data cleaned and ready for analysis.")
print(f"Total unique wells loaded: {len(well_names_20)}")
print("Here’s a preview of the parsed and cleaned data:")
print(wells_df_top20.head(3))
   ]
  },
  {
   "cell_type": "code",
   "execution_count": 5,
   "id": "2c1a8303-2c81-41f3-b463-e45f5aef2c62",
   "metadata": {},
   "outputs": [
    {
     "name": "stdout",
     "output_type": "stream",
     "text": [
      "Step 4B: GOR Trend Classification (Valid Wells Only)\n",
      "   WELL_NAME GOR Trend\n",
      "0    Well_#1    Stable\n",
      "1    Well_#2    Stable\n",
      "2    Well_#3    Stable\n",
      "3    Well_#4    Stable\n",
      "4    Well_#5    Stable\n",
      "5    Well_#6    Stable\n",
      "6    Well_#7    Stable\n",
      "7    Well_#8    Stable\n",
      "8    Well_#9    Stable\n",
      "9   Well_#10    Stable\n",
      "10  Well_#11    Stable\n",
      "11  Well_#12    Stable\n",
      "12  Well_#13    Stable\n",
      "13  Well_#14    Stable\n",
      "14  Well_#15    Stable\n",
      "15  Well_#16    Stable\n",
      "16  Well_#17    Stable\n",
      "17  Well_#18    Stable\n",
      "18  Well_#19    Stable\n",
      "19  Well_#20    Stable\n"
     ]
    }
   ],
   "source": [
    "import numpy as np\n",
    "import pandas as pd\n",
    "from scipy.stats import linregress\n",
    "\n",
    "# Filter: Only wells with valid (non-zero) oil & gas production\n",
    "valid_gor_wells = []\n",
    "\n",
    "for well in well_names_20:\n",
    "    well_data = wells_df[wells_df[\"WELL_NAME\"] == well].copy()\n",
    "\n",
    "    # Keep only records with non-zero oil and gas\n",
    "    valid_data = well_data[\n",
    "        (well_data[\"CUMULATIVE_OIL_PROD (STB)\"] > 0) &\n",
    "        (well_data[\"CUMULATIVE_TOTAL_GAS_PROD (MSCF)\"] > 0)\n",
    "    ].copy()\n",
    "\n",
    "    if len(valid_data) >= 5:  # At least 5 records to detect a trend\n",
    "        valid_gor_wells.append(well)\n",
    "\n",
    "# Trend Analysis for each valid well\n",
    "gor_trends = []\n",
    "\n",
    "for well in valid_gor_wells:\n",
    "    well_data = wells_df[wells_df[\"WELL_NAME\"] == well].copy()\n",
    "\n",
    "    # Ensure proper sorting by date\n",
    "    well_data = well_data.sort_values(\"PROD_DATE\")\n",
    "\n",
    "    # Calculate GOR\n",
    "    well_data[\"GOR\"] = (\n",
    "        well_data[\"CUMULATIVE_TOTAL_GAS_PROD (MSCF)\"] /\n",
    "        well_data[\"CUMULATIVE_OIL_PROD (STB)\"]\n",
    "    )\n",
    "\n",
    "    # Filter again for non-zero GOR\n",
    "    well_data = well_data[well_data[\"GOR\"] > 0]\n",
    "\n",
    "    if len(well_data) < 5:\n",
    "        trend = \"Insufficient Data\"\n",
    "    else:\n",
    "        # Perform linear regression on GOR vs time\n",
    "        well_data[\"Days\"] = (well_data[\"PROD_DATE\"] - well_data[\"PROD_DATE\"].min()).dt.days\n",
    "        slope, intercept, r_value, p_value, std_err = linregress(\n",
    "            well_data[\"Days\"], well_data[\"GOR\"]\n",
    "        )\n",
    "\n",
    "        # Define trend based on slope\n",
    "        if slope > 0.1:\n",
    "            trend = \"Increasing\"\n",
    "        elif slope < -0.1:\n",
    "            trend = \"Decreasing\"\n",
    "        else:\n",
    "            trend = \"Stable\"\n",
    "\n",
    "    gor_trends.append({\n",
    "        \"WELL_NAME\": well,\n",
    "        \"GOR Trend\": trend\n",
    "    })\n",
    "\n",
    "# Compile final results\n",
    "gor_trend_df = pd.DataFrame(gor_trends)\n",
    "\n",
    "# Display Results\n",
    "print(\"Step 4B: GOR Trend Classification (Valid Wells Only)\")\n",
    "print(gor_trend_df)"
   ]
  },
  {
   "cell_type": "code",
   "execution_count": null,
   "id": "f1509628-ec6e-4fc0-b2bf-6c51340fac00",
   "metadata": {},
   "outputs": [],
   "source": []
  }
 ],
 "metadata": {
  "kernelspec": {
   "display_name": "Python 3 (ipykernel)",
   "language": "python",
   "name": "python3"
  },
  "language_info": {
   "codemirror_mode": {
    "name": "ipython",
    "version": 3
   },
   "file_extension": ".py",
   "mimetype": "text/x-python",
   "name": "python",
   "nbconvert_exporter": "python",
   "pygments_lexer": "ipython3",
   "version": "3.12.7"
  }
 },
 "nbformat": 4,
 "nbformat_minor": 5
}
